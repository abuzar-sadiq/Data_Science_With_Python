{
 "cells": [
  {
   "cell_type": "code",
   "execution_count": 2,
   "id": "4576ae89",
   "metadata": {},
   "outputs": [],
   "source": [
    "class sample():\n",
    "    pass"
   ]
  },
  {
   "cell_type": "code",
   "execution_count": 3,
   "id": "ae623cf5",
   "metadata": {},
   "outputs": [],
   "source": [
    "x = sample()"
   ]
  },
  {
   "cell_type": "code",
   "execution_count": 13,
   "id": "6d88c597",
   "metadata": {},
   "outputs": [],
   "source": [
    "class dog():\n",
    "    specie='mamels'\n",
    "    def __init__(self,breed,name):\n",
    "        self.breed=breed\n",
    "        self.name=name\n",
    "sam = dog('lab','sam')"
   ]
  },
  {
   "cell_type": "code",
   "execution_count": 14,
   "id": "784c7eff",
   "metadata": {},
   "outputs": [
    {
     "data": {
      "text/plain": [
       "'lab'"
      ]
     },
     "execution_count": 14,
     "metadata": {},
     "output_type": "execute_result"
    }
   ],
   "source": [
    "  sam.breed"
   ]
  },
  {
   "cell_type": "code",
   "execution_count": 15,
   "id": "91c20d8c",
   "metadata": {},
   "outputs": [
    {
     "data": {
      "text/plain": [
       "'sam'"
      ]
     },
     "execution_count": 15,
     "metadata": {},
     "output_type": "execute_result"
    }
   ],
   "source": [
    "sam.name"
   ]
  },
  {
   "cell_type": "code",
   "execution_count": 16,
   "id": "33721301",
   "metadata": {},
   "outputs": [
    {
     "data": {
      "text/plain": [
       "'mamels'"
      ]
     },
     "execution_count": 16,
     "metadata": {},
     "output_type": "execute_result"
    }
   ],
   "source": [
    "sam.specie"
   ]
  },
  {
   "cell_type": "code",
   "execution_count": 25,
   "id": "7d4dfa88",
   "metadata": {},
   "outputs": [],
   "source": [
    "class circle():\n",
    "    pi = 3.142\n",
    "    def __init__(self,radius=1):\n",
    "        self.radius=radius\n",
    "        \n",
    "    def area(self):\n",
    "        return self.radius*self.radius*circle.pi\n",
    "    def setradius(self,radius):\n",
    "        self.radius=radius"
   ]
  },
  {
   "cell_type": "code",
   "execution_count": 26,
   "id": "cb6763fd",
   "metadata": {},
   "outputs": [
    {
     "name": "stdout",
     "output_type": "stream",
     "text": [
      "78.55\n"
     ]
    }
   ],
   "source": [
    "cl=circle()\n",
    "cl.setradius(5)\n",
    "print(cl.area())"
   ]
  },
  {
   "cell_type": "code",
   "execution_count": 27,
   "id": "7241ae42",
   "metadata": {},
   "outputs": [],
   "source": [
    "class animal():\n",
    "    def __init__(self):\n",
    "        print(\"animal created\")\n",
    "        \n",
    "    def whoami(self):\n",
    "        print(\"animal\")\n",
    "    def eat(self):\n",
    "        print(\"eating\")\n",
    "class dog (animal):\n",
    "    def __init__(self):\n",
    "        print(\"dog created\")\n",
    "        \n",
    "    def whoami(self):\n",
    "        print(\"dog\")\n",
    "    \n",
    "    def bark(self):\n",
    "        print(\"waooo waoo!!\")"
   ]
  },
  {
   "cell_type": "code",
   "execution_count": 28,
   "id": "acad7ab3",
   "metadata": {},
   "outputs": [
    {
     "name": "stdout",
     "output_type": "stream",
     "text": [
      "dog created\n"
     ]
    }
   ],
   "source": [
    "d = dog()"
   ]
  },
  {
   "cell_type": "code",
   "execution_count": 29,
   "id": "215d2e60",
   "metadata": {},
   "outputs": [
    {
     "name": "stdout",
     "output_type": "stream",
     "text": [
      "dog\n"
     ]
    }
   ],
   "source": [
    "d.whoami()"
   ]
  },
  {
   "cell_type": "code",
   "execution_count": 30,
   "id": "4660d206",
   "metadata": {},
   "outputs": [
    {
     "name": "stdout",
     "output_type": "stream",
     "text": [
      "eating\n"
     ]
    }
   ],
   "source": [
    "d.eat()"
   ]
  },
  {
   "cell_type": "code",
   "execution_count": 31,
   "id": "2ee41bf0",
   "metadata": {},
   "outputs": [
    {
     "name": "stdout",
     "output_type": "stream",
     "text": [
      "waooo waoo!!\n"
     ]
    }
   ],
   "source": [
    "d.bark()"
   ]
  },
  {
   "cell_type": "code",
   "execution_count": 47,
   "id": "ae54cbb5",
   "metadata": {},
   "outputs": [],
   "source": [
    "class book():\n",
    "    def __init__(self,title,auther,pages):\n",
    "        self.title=title\n",
    "        self.auther=auther\n",
    "        self.pages=pages\n",
    "    def __str__(self):\n",
    "        return \"Title:{},auther:{},pages:{}\".format(self.title,self.auther,self.pages)\n",
    "    def __len__(self):\n",
    "        return self.pages"
   ]
  },
  {
   "cell_type": "code",
   "execution_count": 55,
   "id": "1ef73d3c",
   "metadata": {},
   "outputs": [
    {
     "name": "stdout",
     "output_type": "stream",
     "text": [
      "program\n"
     ]
    }
   ],
   "source": [
    "booky = book(\"program\",\"harry\",1200)\n",
    "print(booky.title)"
   ]
  },
  {
   "cell_type": "code",
   "execution_count": 49,
   "id": "e8e56e05",
   "metadata": {},
   "outputs": [
    {
     "name": "stdout",
     "output_type": "stream",
     "text": [
      "Title:program,auther:harry,pages:1200\n"
     ]
    }
   ],
   "source": [
    "print(booky)"
   ]
  },
  {
   "cell_type": "code",
   "execution_count": 52,
   "id": "cba7857d",
   "metadata": {},
   "outputs": [
    {
     "data": {
      "text/plain": [
       "1200"
      ]
     },
     "execution_count": 52,
     "metadata": {},
     "output_type": "execute_result"
    }
   ],
   "source": [
    "len(booky)"
   ]
  },
  {
   "cell_type": "code",
   "execution_count": null,
   "id": "48468ce3",
   "metadata": {},
   "outputs": [],
   "source": []
  },
  {
   "cell_type": "code",
   "execution_count": null,
   "id": "3ade81a5",
   "metadata": {},
   "outputs": [],
   "source": []
  }
 ],
 "metadata": {
  "kernelspec": {
   "display_name": "Python 3 (ipykernel)",
   "language": "python",
   "name": "python3"
  },
  "language_info": {
   "codemirror_mode": {
    "name": "ipython",
    "version": 3
   },
   "file_extension": ".py",
   "mimetype": "text/x-python",
   "name": "python",
   "nbconvert_exporter": "python",
   "pygments_lexer": "ipython3",
   "version": "3.9.12"
  }
 },
 "nbformat": 4,
 "nbformat_minor": 5
}
